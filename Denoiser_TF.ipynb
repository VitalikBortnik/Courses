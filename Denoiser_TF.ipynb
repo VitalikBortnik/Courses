{
 "cells": [
  {
   "cell_type": "code",
   "execution_count": 1,
   "metadata": {},
   "outputs": [],
   "source": [
    "import tensorflow as tf\n",
    "from tensorflow.keras.datasets import mnist\n",
    "from tensorflow import keras\n",
    "from tensorflow.keras import Model\n",
    "from tensorflow.keras.layers import Conv2D, MaxPool2D, Conv2DTranspose, BatchNormalization\n",
    "import numpy as np\n",
    "import tensorflow_datasets as tfds\n",
    "\n",
    "#tf.debugging.set_log_device_placement(True)\n",
    "\n",
    "\n",
    "(x_train, _), (x_test, _) = mnist.load_data()\n",
    "\n",
    "x_train = x_train.astype('float32') / 255.\n",
    "x_test = x_test.astype('float32') / 255.\n",
    "x_train = np.reshape(x_train, (len(x_train), 28, 28, 1))  \n",
    "x_test = np.reshape(x_test, (len(x_test), 28, 28, 1)) \n",
    "\n",
    "noise_factor = 0.5\n",
    "x_train_noisy = x_train + noise_factor * np.random.normal(loc=0.0, scale=1.0, size=x_train.shape) \n",
    "x_test_noisy = x_test + noise_factor * np.random.normal(loc=0.0, scale=1.0, size=x_test.shape) \n",
    "\n",
    "x_train_noisy = np.clip(x_train_noisy, 0., 1.)\n",
    "x_test_noisy = np.clip(x_test_noisy, 0., 1.)"
   ]
  },
  {
   "cell_type": "code",
   "execution_count": 2,
   "metadata": {},
   "outputs": [
    {
     "name": "stdout",
     "output_type": "stream",
     "text": [
      "Num GPUs Available:  1\n"
     ]
    }
   ],
   "source": [
    "print(\"Num GPUs Available: \", len(tf.config.experimental.list_physical_devices('GPU')))\n"
   ]
  },
  {
   "cell_type": "code",
   "execution_count": 3,
   "metadata": {},
   "outputs": [],
   "source": [
    "batch_size = 32\n",
    "buffer_size = 10000\n",
    "train_ds = tf.data.Dataset.from_tensor_slices((x_train, x_train_noisy)).shuffle(buffer_size).batch(batch_size)\n",
    "test_ds = tf.data.Dataset.from_tensor_slices((x_test, x_test_noisy)).shuffle(buffer_size).batch(batch_size)\n"
   ]
  },
  {
   "cell_type": "code",
   "execution_count": 4,
   "metadata": {},
   "outputs": [],
   "source": [
    "  \n",
    "class DenoiserBig(Model): \n",
    "    \"\"\"\n",
    "    Autoencoder model for MNIST imege denoising.\n",
    "    \"\"\"\n",
    "    def __init__(self):\n",
    "        \"\"\"\n",
    "        Initializes autoencoder layers.\n",
    "        \"\"\"\n",
    "        super(DenoiserBig, self).__init__()\n",
    "        self.encoder_l1 = keras.Sequential((\n",
    "                            Conv2D(32, 3, padding='same', activation='relu'),\n",
    "                            BatchNormalization(momentum=0.1, epsilon=1e-5),\n",
    "                            Conv2D(32, 3, padding='same', activation='relu'),\n",
    "                            BatchNormalization(momentum=0.1, epsilon=1e-5),\n",
    "                            Conv2D(64, 3, padding='same', activation='relu'),\n",
    "                            BatchNormalization(momentum=0.1, epsilon=1e-5),\n",
    "                            Conv2D(64, 3, padding='same', activation='relu'),\n",
    "                            BatchNormalization(momentum=0.1, epsilon=1e-5),\n",
    "                            MaxPool2D()\n",
    "        ))\n",
    "        self.encoder_l2 = keras.Sequential((\n",
    "                            Conv2D(128, 3, padding='same', activation='relu'),\n",
    "                            BatchNormalization(momentum=0.1, epsilon=1e-5),\n",
    "                            Conv2D(128, 3, padding='same', activation='relu'),\n",
    "                            BatchNormalization(momentum=0.1, epsilon=1e-5),\n",
    "                            MaxPool2D(),\n",
    "                            Conv2D(256, 3, padding='same', activation='relu')\n",
    "        ))\n",
    "        self.decoder_l1 = keras.Sequential((\n",
    "                            Conv2DTranspose(128, 3, 2, 'same', 1, activation='relu'),\n",
    "                            BatchNormalization(momentum=0.1, epsilon=1e-5),\n",
    "                            Conv2DTranspose(128, 3, 1, 'same', activation='relu'),\n",
    "                            BatchNormalization(momentum=0.1, epsilon=1e-5),\n",
    "                            Conv2DTranspose(64, 3, 1, 'same', activation='relu'),\n",
    "                            BatchNormalization(momentum=0.1, epsilon=1e-5),\n",
    "                            Conv2DTranspose(64, 3, 1, 'same', activation='relu'),\n",
    "                            BatchNormalization(momentum=0.1, epsilon=1e-5)\n",
    "        ))\n",
    "        self.decoder_l2 = keras.Sequential((\n",
    "                            Conv2DTranspose(64, 3, 1, 'same', activation='relu'),\n",
    "                            BatchNormalization(momentum=0.1, epsilon=1e-5),\n",
    "                            Conv2DTranspose(32, 3, 1, 'same', activation='relu'),\n",
    "                            BatchNormalization(momentum=0.1, epsilon=1e-5),\n",
    "                            Conv2DTranspose(1, 3, 2, 'same', 1, activation='relu'),\n",
    "        ))\n",
    "        \n",
    "    def call(self, x):\n",
    "        \"\"\"\n",
    "        Defines the computation performed at every call.           \n",
    "        :param x: Batch of images.\n",
    "        :return: Image after autoencoder.\n",
    "        \"\"\"\n",
    "        out = self.encoder_l1(x)\n",
    "        out = self.encoder_l2(out)\n",
    "        out = self.decoder_l1(out)\n",
    "        out = self.decoder_l2(out)\n",
    "        return out"
   ]
  },
  {
   "cell_type": "code",
   "execution_count": 5,
   "metadata": {},
   "outputs": [],
   "source": [
    "# Init model and training params.\n",
    "model = DenoiserBig()\n",
    "loss_object = keras.losses.MeanSquaredError()\n",
    "optimizer = keras.optimizers.Adam(learning_rate=0.0001)\n",
    "\n",
    "\n",
    "train_loss = tf.keras.metrics.Mean(name='train_loss')\n",
    "train_accuracy = tf.keras.metrics.Mean(name='train_accuracy')\n",
    "\n",
    "test_loss = tf.keras.metrics.Mean(name='test_loss')\n",
    "test_accuracy = tf.keras.metrics.Mean(name='test_accuracy')"
   ]
  },
  {
   "cell_type": "code",
   "execution_count": 7,
   "metadata": {},
   "outputs": [],
   "source": [
    "# Test and train step logic.\n",
    "@tf.function\n",
    "def train_step(images, images_noised):\n",
    "    \n",
    "    with tf.GradientTape() as tape:\n",
    "        # training=True is only needed if there are layers with different\n",
    "        # behavior during training versus inference (e.g. Dropout).\n",
    "        predictions = model(images_noised, training=True)\n",
    "        loss = loss_object(images, predictions)\n",
    "    gradients = tape.gradient(loss, model.trainable_variables)\n",
    "    optimizer.apply_gradients(zip(gradients, model.trainable_variables))\n",
    "\n",
    "    train_loss(loss)\n",
    "    train_accuracy(images, predictions)\n",
    "    \n",
    "\n",
    "@tf.function\n",
    "def test_step(images, images_noised):\n",
    "    # training=False is only needed if there are layers with different\n",
    "    # behavior during training versus inference (e.g. Dropout).\n",
    "    predictions = model(images_noised, training=False)\n",
    "    t_loss = loss_object(images, predictions)\n",
    "\n",
    "    test_loss(t_loss)\n",
    "    test_accuracy(images, predictions)"
   ]
  },
  {
   "cell_type": "code",
   "execution_count": 8,
   "metadata": {},
   "outputs": [
    {
     "name": "stdout",
     "output_type": "stream",
     "text": [
      "WARNING:tensorflow:Layer denoiser_big is casting an input tensor from dtype float64 to the layer's dtype of float32, which is new behavior in TensorFlow 2.  The layer has dtype float32 because it's dtype defaults to floatx.\n",
      "\n",
      "If you intended to run this layer in float32, you can safely ignore this warning. If in doubt, this warning is likely only an issue if you are porting a TensorFlow 1.X model to TensorFlow 2.\n",
      "\n",
      "To change all layers to have dtype float64 by default, call `tf.keras.backend.set_floatx('float64')`. To change just this layer, pass dtype='float64' to the layer constructor. If you are the author of this layer, you can disable autocasting by passing autocast=False to the base Layer constructor.\n",
      "\n",
      "Epoch 1, Loss: 0.0194845050573349, Accuracy: 72.09822082519531, Test Loss: 0.012242352589964867, Test Accuracy: 77.12615203857422\n",
      "Epoch 2, Loss: 0.011657783761620522, Accuracy: 77.83006286621094, Test Loss: 0.010812736116349697, Test Accuracy: 78.94035339355469\n",
      "Epoch 3, Loss: 0.01066642627120018, Accuracy: 78.63948059082031, Test Loss: 0.0106338020414114, Test Accuracy: 78.00273132324219\n",
      "Epoch 4, Loss: 0.010100280866026878, Accuracy: 79.06879425048828, Test Loss: 0.009927671402692795, Test Accuracy: 80.05560302734375\n",
      "Epoch 5, Loss: 0.009651286527514458, Accuracy: 79.38958740234375, Test Loss: 0.009609145112335682, Test Accuracy: 79.68606567382812\n",
      "Epoch 6, Loss: 0.00932906474918127, Accuracy: 79.61404418945312, Test Loss: 0.009447875432670116, Test Accuracy: 80.06439971923828\n",
      "Epoch 7, Loss: 0.00907215941697359, Accuracy: 79.78997802734375, Test Loss: 0.009411169216036797, Test Accuracy: 79.22552490234375\n",
      "Epoch 8, Loss: 0.008848833851516247, Accuracy: 79.9439468383789, Test Loss: 0.009321080520749092, Test Accuracy: 80.78791809082031\n",
      "Epoch 9, Loss: 0.00864795595407486, Accuracy: 80.08084869384766, Test Loss: 0.009259874001145363, Test Accuracy: 80.63016510009766\n"
     ]
    }
   ],
   "source": [
    "EPOCHS = 9\n",
    "for epoch in range(EPOCHS):\n",
    "    # Reset the metrics at the start of the next epoch\n",
    "    train_loss.reset_states()\n",
    "    train_accuracy.reset_states()\n",
    "    test_loss.reset_states()\n",
    "    test_accuracy.reset_states()\n",
    "\n",
    "    for images, images_noised in train_ds:\n",
    "        train_step(images, images_noised)\n",
    "\n",
    "    for test_images, test_images_noised in test_ds:\n",
    "        test_step(test_images, test_images_noised)\n",
    "\n",
    "    template = 'Epoch {}, Loss: {}, Accuracy: {}, Test Loss: {}, Test Accuracy: {}'\n",
    "    print(template.format(epoch+1,\n",
    "                        train_loss.result(),\n",
    "                        train_accuracy.result()*100,\n",
    "                        test_loss.result(),\n",
    "                        test_accuracy.result()*100))"
   ]
  },
  {
   "cell_type": "code",
   "execution_count": 21,
   "metadata": {},
   "outputs": [
    {
     "data": {
      "image/png": "[encoded data removed]",
      "text/plain": [
       "<Figure size 432x288 with 1 Axes>"
      ]
     },
     "metadata": {
      "needs_background": "light"
     },
     "output_type": "display_data"
    },
    {
     "data": {
      "image/png": "[encoded data removed]",
      "text/plain": [
       "<Figure size 432x288 with 1 Axes>"
      ]
     },
     "metadata": {
      "needs_background": "light"
     },
     "output_type": "display_data"
    },
    {
     "data": {
      "image/png": "[encoded data removed]",
      "text/plain": [
       "<Figure size 432x288 with 1 Axes>"
      ]
     },
     "metadata": {
      "needs_background": "light"
     },
     "output_type": "display_data"
    }
   ],
   "source": [
    "%matplotlib inline\n",
    "from matplotlib import pyplot as plt\n",
    "\n",
    "x1, y1 = None, None\n",
    "for x, y in train_ds:\n",
    "    x1 = x\n",
    "    y1 = y\n",
    "    break\n",
    "\n",
    "i = 3\n",
    "x = y1[i]\n",
    "x = x[tf.newaxis, ...]\n",
    "out = model(x, training=False)\n",
    "plt.imshow(x1[i].numpy().reshape((28,28)))\n",
    "plt.show()\n",
    "plt.imshow(y1[i].numpy().reshape((28,28)))\n",
    "plt.show()\n",
    "plt.imshow(out.numpy().reshape((28,28)))\n",
    "plt.show()"
   ]
  },
  {
   "cell_type": "code",
   "execution_count": null,
   "metadata": {},
   "outputs": [],
   "source": []
  }
 ],
 "metadata": {
  "kernelspec": {
   "display_name": "Python 3",
   "language": "python",
   "name": "python3"
  },
  "language_info": {
   "codemirror_mode": {
    "name": "ipython",
    "version": 3
   },
   "file_extension": ".py",
   "mimetype": "text/x-python",
   "name": "python",
   "nbconvert_exporter": "python",
   "pygments_lexer": "ipython3",
   "version": "3.6.9"
  }
 },
 "nbformat": 4,
 "nbformat_minor": 2
}
